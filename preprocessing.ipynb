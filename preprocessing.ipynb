{
 "cells": [
  {
   "cell_type": "code",
   "execution_count": 1,
   "metadata": {},
   "outputs": [
    {
     "name": "stderr",
     "output_type": "stream",
     "text": [
      "Using TensorFlow backend.\n"
     ]
    }
   ],
   "source": [
    "import numpy as np\n",
    "from PIL import Image\n",
    "import os\n",
    "from keras.preprocessing.image import ImageDataGenerator\n",
    "from keras.preprocessing import image\n",
    "import matplotlib.pyplot as plt\n",
    "import h5py"
   ]
  },
  {
   "cell_type": "code",
   "execution_count": 2,
   "metadata": {},
   "outputs": [],
   "source": [
    "os.chdir('C:\\\\Users\\\\2052662\\\\Desktop\\\\ys_aoi_data')"
   ]
  },
  {
   "cell_type": "code",
   "execution_count": 3,
   "metadata": {},
   "outputs": [],
   "source": [
    "# image list 경로 불러와서 image_list에 저장\n",
    "def allfiles(path):\n",
    "    res = []\n",
    "    for root, dirs, files in os.walk(path):\n",
    "        rootpath = os.path.join(os.path.abspath(path), root)\n",
    "\n",
    "        for file in files:\n",
    "            filepath = os.path.join(rootpath, file)\n",
    "            res.append(filepath)\n",
    "    return res\n",
    "image_list_label = allfiles(os.getcwd()+'\\\\AOI_Label')\n",
    "image_list_unlabel = allfiles(os.getcwd()+'\\\\AOI_Unlabel')"
   ]
  },
  {
   "cell_type": "code",
   "execution_count": null,
   "metadata": {},
   "outputs": [],
   "source": [
    "#unlabel img data자르기 - 만개씩\n",
    "for k in range(len(image_list_unlabel)//10000+1):\n",
    "    np_unlabel_data = [np.array(Image.open(i).resize((200,200))) for i in image_list_unlabel[k*10000:(k+1)*10000]]\n",
    "    np.save(\"./unlabel_img_200x200_\"+str(k)+\".npy\", np_unlabel_data)"
   ]
  },
  {
   "cell_type": "code",
   "execution_count": null,
   "metadata": {},
   "outputs": [],
   "source": [
    "#unlabel img fname자르기 - 만개씩\n",
    "for k in range(len(image_list_unlabel)//10000+1):\n",
    "    np_unlabel_fname = [i for i in image_list_unlabel[k*10000:(k+1)*10000]]\n",
    "    np.save(\"./unlabel_fname_200x200_\"+str(k)+\".npy\", np_unlabel_fname)"
   ]
  },
  {
   "cell_type": "code",
   "execution_count": 4,
   "metadata": {},
   "outputs": [],
   "source": [
    "#label img data저장\n",
    "np_label_data = [np.array(Image.open(i).resize((200,200))) for i in image_list_label]\n",
    "np.save(\"C:\\\\Users\\\\2052662\\\\Desktop\\\\ys_aoi_data/label_img.npy\", np_label_data)"
   ]
  },
  {
   "cell_type": "code",
   "execution_count": 58,
   "metadata": {},
   "outputs": [
    {
     "data": {
      "text/plain": [
       "87204"
      ]
     },
     "execution_count": 58,
     "metadata": {},
     "output_type": "execute_result"
    }
   ],
   "source": [
    "os.chdir('C:\\\\Users\\\\2052662\\\\Desktop\\\\새 폴더 (3)\\\\SMT 2호기 AOI 불량 Image')\n",
    "# image list 경로 불러와서 image_list에 저장\n",
    "def allfiles(path):\n",
    "    res = []\n",
    "    for root, dirs, files in os.walk(path):\n",
    "        rootpath = os.path.join(os.path.abspath(path), root)\n",
    "\n",
    "        for file in files:\n",
    "            filepath = os.path.join(rootpath, file)\n",
    "            res.append(filepath)\n",
    "    return res\n",
    "image_list_unlabel = allfiles(os.getcwd())\n",
    "len(image_list_unlabel)"
   ]
  },
  {
   "cell_type": "code",
   "execution_count": 59,
   "metadata": {},
   "outputs": [
    {
     "ename": "DecompressionBombError",
     "evalue": "Image size (426571002 pixels) exceeds limit of 178956970 pixels, could be decompression bomb DOS attack.",
     "output_type": "error",
     "traceback": [
      "\u001b[1;31m---------------------------------------------------------------------------\u001b[0m",
      "\u001b[1;31mDecompressionBombError\u001b[0m                    Traceback (most recent call last)",
      "\u001b[1;32m<ipython-input-59-e186dfd1e3b5>\u001b[0m in \u001b[0;36m<module>\u001b[1;34m\u001b[0m\n\u001b[0;32m      1\u001b[0m \u001b[1;31m#unlabel img data자르기 - 만개씩\u001b[0m\u001b[1;33m\u001b[0m\u001b[1;33m\u001b[0m\u001b[1;33m\u001b[0m\u001b[0m\n\u001b[0;32m      2\u001b[0m \u001b[1;32mfor\u001b[0m \u001b[0mk\u001b[0m \u001b[1;32min\u001b[0m \u001b[0mrange\u001b[0m\u001b[1;33m(\u001b[0m\u001b[0mlen\u001b[0m\u001b[1;33m(\u001b[0m\u001b[0mimage_list_unlabel\u001b[0m\u001b[1;33m)\u001b[0m\u001b[1;33m//\u001b[0m\u001b[1;36m10000\u001b[0m\u001b[1;33m+\u001b[0m\u001b[1;36m1\u001b[0m\u001b[1;33m)\u001b[0m\u001b[1;33m:\u001b[0m\u001b[1;33m\u001b[0m\u001b[1;33m\u001b[0m\u001b[0m\n\u001b[1;32m----> 3\u001b[1;33m     \u001b[0mnp_unlabel_data\u001b[0m \u001b[1;33m=\u001b[0m \u001b[1;33m[\u001b[0m\u001b[0mnp\u001b[0m\u001b[1;33m.\u001b[0m\u001b[0marray\u001b[0m\u001b[1;33m(\u001b[0m\u001b[0mImage\u001b[0m\u001b[1;33m.\u001b[0m\u001b[0mopen\u001b[0m\u001b[1;33m(\u001b[0m\u001b[0mi\u001b[0m\u001b[1;33m)\u001b[0m\u001b[1;33m.\u001b[0m\u001b[0mresize\u001b[0m\u001b[1;33m(\u001b[0m\u001b[1;33m(\u001b[0m\u001b[1;36m200\u001b[0m\u001b[1;33m,\u001b[0m\u001b[1;36m200\u001b[0m\u001b[1;33m)\u001b[0m\u001b[1;33m)\u001b[0m\u001b[1;33m)\u001b[0m \u001b[1;32mfor\u001b[0m \u001b[0mi\u001b[0m \u001b[1;32min\u001b[0m \u001b[0mimage_list_unlabel\u001b[0m\u001b[1;33m[\u001b[0m\u001b[0mk\u001b[0m\u001b[1;33m*\u001b[0m\u001b[1;36m10000\u001b[0m\u001b[1;33m:\u001b[0m\u001b[1;33m(\u001b[0m\u001b[0mk\u001b[0m\u001b[1;33m+\u001b[0m\u001b[1;36m1\u001b[0m\u001b[1;33m)\u001b[0m\u001b[1;33m*\u001b[0m\u001b[1;36m10000\u001b[0m\u001b[1;33m]\u001b[0m\u001b[1;33m]\u001b[0m\u001b[1;33m\u001b[0m\u001b[1;33m\u001b[0m\u001b[0m\n\u001b[0m\u001b[0;32m      4\u001b[0m     \u001b[0mnp\u001b[0m\u001b[1;33m.\u001b[0m\u001b[0msave\u001b[0m\u001b[1;33m(\u001b[0m\u001b[1;34m\"C:\\\\Users\\\\2052662\\\\Desktop\\\\ys_aoi_data/unlabel_img_200x200_\"\u001b[0m\u001b[1;33m+\u001b[0m\u001b[0mstr\u001b[0m\u001b[1;33m(\u001b[0m\u001b[0mk\u001b[0m\u001b[1;33m+\u001b[0m\u001b[1;36m11\u001b[0m\u001b[1;33m)\u001b[0m\u001b[1;33m+\u001b[0m\u001b[1;34m\".npy\"\u001b[0m\u001b[1;33m,\u001b[0m \u001b[0mnp_unlabel_data\u001b[0m\u001b[1;33m)\u001b[0m\u001b[1;33m\u001b[0m\u001b[1;33m\u001b[0m\u001b[0m\n",
      "\u001b[1;32m<ipython-input-59-e186dfd1e3b5>\u001b[0m in \u001b[0;36m<listcomp>\u001b[1;34m(.0)\u001b[0m\n\u001b[0;32m      1\u001b[0m \u001b[1;31m#unlabel img data자르기 - 만개씩\u001b[0m\u001b[1;33m\u001b[0m\u001b[1;33m\u001b[0m\u001b[1;33m\u001b[0m\u001b[0m\n\u001b[0;32m      2\u001b[0m \u001b[1;32mfor\u001b[0m \u001b[0mk\u001b[0m \u001b[1;32min\u001b[0m \u001b[0mrange\u001b[0m\u001b[1;33m(\u001b[0m\u001b[0mlen\u001b[0m\u001b[1;33m(\u001b[0m\u001b[0mimage_list_unlabel\u001b[0m\u001b[1;33m)\u001b[0m\u001b[1;33m//\u001b[0m\u001b[1;36m10000\u001b[0m\u001b[1;33m+\u001b[0m\u001b[1;36m1\u001b[0m\u001b[1;33m)\u001b[0m\u001b[1;33m:\u001b[0m\u001b[1;33m\u001b[0m\u001b[1;33m\u001b[0m\u001b[0m\n\u001b[1;32m----> 3\u001b[1;33m     \u001b[0mnp_unlabel_data\u001b[0m \u001b[1;33m=\u001b[0m \u001b[1;33m[\u001b[0m\u001b[0mnp\u001b[0m\u001b[1;33m.\u001b[0m\u001b[0marray\u001b[0m\u001b[1;33m(\u001b[0m\u001b[0mImage\u001b[0m\u001b[1;33m.\u001b[0m\u001b[0mopen\u001b[0m\u001b[1;33m(\u001b[0m\u001b[0mi\u001b[0m\u001b[1;33m)\u001b[0m\u001b[1;33m.\u001b[0m\u001b[0mresize\u001b[0m\u001b[1;33m(\u001b[0m\u001b[1;33m(\u001b[0m\u001b[1;36m200\u001b[0m\u001b[1;33m,\u001b[0m\u001b[1;36m200\u001b[0m\u001b[1;33m)\u001b[0m\u001b[1;33m)\u001b[0m\u001b[1;33m)\u001b[0m \u001b[1;32mfor\u001b[0m \u001b[0mi\u001b[0m \u001b[1;32min\u001b[0m \u001b[0mimage_list_unlabel\u001b[0m\u001b[1;33m[\u001b[0m\u001b[0mk\u001b[0m\u001b[1;33m*\u001b[0m\u001b[1;36m10000\u001b[0m\u001b[1;33m:\u001b[0m\u001b[1;33m(\u001b[0m\u001b[0mk\u001b[0m\u001b[1;33m+\u001b[0m\u001b[1;36m1\u001b[0m\u001b[1;33m)\u001b[0m\u001b[1;33m*\u001b[0m\u001b[1;36m10000\u001b[0m\u001b[1;33m]\u001b[0m\u001b[1;33m]\u001b[0m\u001b[1;33m\u001b[0m\u001b[1;33m\u001b[0m\u001b[0m\n\u001b[0m\u001b[0;32m      4\u001b[0m     \u001b[0mnp\u001b[0m\u001b[1;33m.\u001b[0m\u001b[0msave\u001b[0m\u001b[1;33m(\u001b[0m\u001b[1;34m\"C:\\\\Users\\\\2052662\\\\Desktop\\\\ys_aoi_data/unlabel_img_200x200_\"\u001b[0m\u001b[1;33m+\u001b[0m\u001b[0mstr\u001b[0m\u001b[1;33m(\u001b[0m\u001b[0mk\u001b[0m\u001b[1;33m+\u001b[0m\u001b[1;36m11\u001b[0m\u001b[1;33m)\u001b[0m\u001b[1;33m+\u001b[0m\u001b[1;34m\".npy\"\u001b[0m\u001b[1;33m,\u001b[0m \u001b[0mnp_unlabel_data\u001b[0m\u001b[1;33m)\u001b[0m\u001b[1;33m\u001b[0m\u001b[1;33m\u001b[0m\u001b[0m\n",
      "\u001b[1;32m~\\anaconda3\\envs\\keras_ys\\lib\\site-packages\\PIL\\Image.py\u001b[0m in \u001b[0;36mopen\u001b[1;34m(fp, mode)\u001b[0m\n\u001b[0;32m   2802\u001b[0m         \u001b[1;32mreturn\u001b[0m \u001b[1;32mNone\u001b[0m\u001b[1;33m\u001b[0m\u001b[1;33m\u001b[0m\u001b[0m\n\u001b[0;32m   2803\u001b[0m \u001b[1;33m\u001b[0m\u001b[0m\n\u001b[1;32m-> 2804\u001b[1;33m     \u001b[0mim\u001b[0m \u001b[1;33m=\u001b[0m \u001b[0m_open_core\u001b[0m\u001b[1;33m(\u001b[0m\u001b[0mfp\u001b[0m\u001b[1;33m,\u001b[0m \u001b[0mfilename\u001b[0m\u001b[1;33m,\u001b[0m \u001b[0mprefix\u001b[0m\u001b[1;33m)\u001b[0m\u001b[1;33m\u001b[0m\u001b[1;33m\u001b[0m\u001b[0m\n\u001b[0m\u001b[0;32m   2805\u001b[0m \u001b[1;33m\u001b[0m\u001b[0m\n\u001b[0;32m   2806\u001b[0m     \u001b[1;32mif\u001b[0m \u001b[0mim\u001b[0m \u001b[1;32mis\u001b[0m \u001b[1;32mNone\u001b[0m\u001b[1;33m:\u001b[0m\u001b[1;33m\u001b[0m\u001b[1;33m\u001b[0m\u001b[0m\n",
      "\u001b[1;32m~\\anaconda3\\envs\\keras_ys\\lib\\site-packages\\PIL\\Image.py\u001b[0m in \u001b[0;36m_open_core\u001b[1;34m(fp, filename, prefix)\u001b[0m\n\u001b[0;32m   2789\u001b[0m                     \u001b[0mfp\u001b[0m\u001b[1;33m.\u001b[0m\u001b[0mseek\u001b[0m\u001b[1;33m(\u001b[0m\u001b[1;36m0\u001b[0m\u001b[1;33m)\u001b[0m\u001b[1;33m\u001b[0m\u001b[1;33m\u001b[0m\u001b[0m\n\u001b[0;32m   2790\u001b[0m                     \u001b[0mim\u001b[0m \u001b[1;33m=\u001b[0m \u001b[0mfactory\u001b[0m\u001b[1;33m(\u001b[0m\u001b[0mfp\u001b[0m\u001b[1;33m,\u001b[0m \u001b[0mfilename\u001b[0m\u001b[1;33m)\u001b[0m\u001b[1;33m\u001b[0m\u001b[1;33m\u001b[0m\u001b[0m\n\u001b[1;32m-> 2791\u001b[1;33m                     \u001b[0m_decompression_bomb_check\u001b[0m\u001b[1;33m(\u001b[0m\u001b[0mim\u001b[0m\u001b[1;33m.\u001b[0m\u001b[0msize\u001b[0m\u001b[1;33m)\u001b[0m\u001b[1;33m\u001b[0m\u001b[1;33m\u001b[0m\u001b[0m\n\u001b[0m\u001b[0;32m   2792\u001b[0m                     \u001b[1;32mreturn\u001b[0m \u001b[0mim\u001b[0m\u001b[1;33m\u001b[0m\u001b[1;33m\u001b[0m\u001b[0m\n\u001b[0;32m   2793\u001b[0m             \u001b[1;32mexcept\u001b[0m \u001b[1;33m(\u001b[0m\u001b[0mSyntaxError\u001b[0m\u001b[1;33m,\u001b[0m \u001b[0mIndexError\u001b[0m\u001b[1;33m,\u001b[0m \u001b[0mTypeError\u001b[0m\u001b[1;33m,\u001b[0m \u001b[0mstruct\u001b[0m\u001b[1;33m.\u001b[0m\u001b[0merror\u001b[0m\u001b[1;33m)\u001b[0m\u001b[1;33m:\u001b[0m\u001b[1;33m\u001b[0m\u001b[1;33m\u001b[0m\u001b[0m\n",
      "\u001b[1;32m~\\anaconda3\\envs\\keras_ys\\lib\\site-packages\\PIL\\Image.py\u001b[0m in \u001b[0;36m_decompression_bomb_check\u001b[1;34m(size)\u001b[0m\n\u001b[0;32m   2722\u001b[0m         raise DecompressionBombError(\n\u001b[0;32m   2723\u001b[0m             \u001b[1;34m\"Image size (%d pixels) exceeds limit of %d pixels, \"\u001b[0m\u001b[1;33m\u001b[0m\u001b[1;33m\u001b[0m\u001b[0m\n\u001b[1;32m-> 2724\u001b[1;33m             \u001b[1;34m\"could be decompression bomb DOS attack.\"\u001b[0m \u001b[1;33m%\u001b[0m \u001b[1;33m(\u001b[0m\u001b[0mpixels\u001b[0m\u001b[1;33m,\u001b[0m \u001b[1;36m2\u001b[0m \u001b[1;33m*\u001b[0m \u001b[0mMAX_IMAGE_PIXELS\u001b[0m\u001b[1;33m)\u001b[0m\u001b[1;33m\u001b[0m\u001b[1;33m\u001b[0m\u001b[0m\n\u001b[0m\u001b[0;32m   2725\u001b[0m         )\n\u001b[0;32m   2726\u001b[0m \u001b[1;33m\u001b[0m\u001b[0m\n",
      "\u001b[1;31mDecompressionBombError\u001b[0m: Image size (426571002 pixels) exceeds limit of 178956970 pixels, could be decompression bomb DOS attack."
     ]
    }
   ],
   "source": [
    "#unlabel img data자르기 - 만개씩\n",
    "for k in range(len(image_list_unlabel)//10000+1):\n",
    "    np_unlabel_data = [np.array(Image.open(i).resize((200,200))) for i in image_list_unlabel[k*10000:(k+1)*10000]]\n",
    "    np.save(\"C:\\\\Users\\\\2052662\\\\Desktop\\\\ys_aoi_data/unlabel_img_200x200_\"+str(k+11)+\".npy\", np_unlabel_data)"
   ]
  },
  {
   "cell_type": "code",
   "execution_count": 62,
   "metadata": {},
   "outputs": [],
   "source": [
    "#unlabel img fname자르기 - 만개씩\n",
    "for k in range(len(image_list_unlabel)//10000+1):\n",
    "    np_unlabel_fname = [i for i in image_list_unlabel[k*10000:(k+1)*10000]]\n",
    "    np.save(\"C:\\\\Users\\\\2052662\\\\Desktop\\\\ys_aoi_data/unlabel_fname_200x200_\"+str(k+11)+\".npy\", np_unlabel_fname)"
   ]
  },
  {
   "cell_type": "code",
   "execution_count": 63,
   "metadata": {},
   "outputs": [
    {
     "data": {
      "text/plain": [
       "122757"
      ]
     },
     "execution_count": 63,
     "metadata": {},
     "output_type": "execute_result"
    }
   ],
   "source": [
    "os.chdir('C:\\\\Users\\\\2052662\\\\Desktop\\\\SMT 3호기 AOI 불량 Image')\n",
    "# image list 경로 불러와서 image_list에 저장\n",
    "def allfiles(path):\n",
    "    res = []\n",
    "    for root, dirs, files in os.walk(path):\n",
    "        rootpath = os.path.join(os.path.abspath(path), root)\n",
    "\n",
    "        for file in files:\n",
    "            filepath = os.path.join(rootpath, file)\n",
    "            res.append(filepath)\n",
    "    return res\n",
    "image_list_unlabel = allfiles(os.getcwd())\n",
    "len(image_list_unlabel)"
   ]
  },
  {
   "cell_type": "code",
   "execution_count": 64,
   "metadata": {},
   "outputs": [],
   "source": [
    "#unlabel img data자르기 - 만개씩\n",
    "for k in range(len(image_list_unlabel)//10000+1):\n",
    "    np_unlabel_data = [np.array(Image.open(i).resize((200,200))) for i in image_list_unlabel[k*10000:(k+1)*10000]]\n",
    "    np.save(\"C:\\\\Users\\\\2052662\\\\Desktop\\\\ys_aoi_data/unlabel_img_200x200_\"+str(k+19)+\".npy\", np_unlabel_data)"
   ]
  },
  {
   "cell_type": "code",
   "execution_count": 65,
   "metadata": {},
   "outputs": [],
   "source": [
    "#unlabel img fname자르기 - 만개씩\n",
    "for k in range(len(image_list_unlabel)//10000+1):\n",
    "    np_unlabel_fname = [i for i in image_list_unlabel[k*10000:(k+1)*10000]]\n",
    "    np.save(\"C:\\\\Users\\\\2052662\\\\Desktop\\\\ys_aoi_data/unlabel_fname_200x200_\"+str(k+19)+\".npy\", np_unlabel_fname)"
   ]
  },
  {
   "cell_type": "code",
   "execution_count": 7,
   "metadata": {},
   "outputs": [
    {
     "data": {
      "text/plain": [
       "'C:\\\\Users\\\\2052662\\\\Desktop\\\\ys_aoi_data'"
      ]
     },
     "execution_count": 7,
     "metadata": {},
     "output_type": "execute_result"
    }
   ],
   "source": [
    "os.getcwd()"
   ]
  },
  {
   "cell_type": "code",
   "execution_count": 10,
   "metadata": {},
   "outputs": [
    {
     "data": {
      "text/plain": [
       "10000"
      ]
     },
     "execution_count": 10,
     "metadata": {},
     "output_type": "execute_result"
    }
   ],
   "source": [
    "len(np_unlabel_data)"
   ]
  },
  {
   "cell_type": "code",
   "execution_count": 18,
   "metadata": {},
   "outputs": [
    {
     "data": {
      "text/plain": [
       "(200, 200, 3)"
      ]
     },
     "execution_count": 18,
     "metadata": {},
     "output_type": "execute_result"
    }
   ],
   "source": [
    "np_unlabel_data[0].shape"
   ]
  },
  {
   "cell_type": "code",
   "execution_count": 29,
   "metadata": {},
   "outputs": [
    {
     "data": {
      "image/png": "[encoded data removed]",
      "text/plain": [
       "<PIL.Image.Image image mode=RGB size=200x200 at 0x1644BEEC848>"
      ]
     },
     "execution_count": 29,
     "metadata": {},
     "output_type": "execute_result"
    }
   ],
   "source": [
    "Image.fromarray(np_unlabel_data[2])\n"
   ]
  },
  {
   "cell_type": "code",
   "execution_count": 30,
   "metadata": {},
   "outputs": [
    {
     "name": "stdout",
     "output_type": "stream",
     "text": [
      "C:\\Users\\2052662\\Desktop\\ys_aoi_data\\AOI_Unlabel\\1,R313751813CK00319022806A1,3044,19,5,Contamination.png\n"
     ]
    }
   ],
   "source": [
    "print(np_unlabel_fname[2])"
   ]
  },
  {
   "cell_type": "code",
   "execution_count": null,
   "metadata": {},
   "outputs": [],
   "source": [
    "np_unlabel_data2 = [np.array(Image.open(i).resize((200,200))) for i in image_list_unlabel[len(image_list_unlabel)//2:]]\n",
    "np.save(\"./unlabel_img2.npy\", np_unlabel_data2)"
   ]
  },
  {
   "cell_type": "code",
   "execution_count": 34,
   "metadata": {},
   "outputs": [],
   "source": [
    "np_unlabel_data = [np.array(Image.open(i).resize((100,100))) for i in image_list_unlabel[:len(image_list_unlabel)]]\n",
    "np.save(\"./unlabel_img100x100.npy\", np_unlabel_data)"
   ]
  },
  {
   "cell_type": "code",
   "execution_count": 18,
   "metadata": {},
   "outputs": [],
   "source": [
    "np_label_data100 = [np.array(Image.open(i).resize((100,100))) for i in image_list_label]\n",
    "np.save(\"./label_img100x100.npy\", np_label_data100)"
   ]
  },
  {
   "cell_type": "code",
   "execution_count": 8,
   "metadata": {},
   "outputs": [],
   "source": [
    "#img data의 label 얻어오기\n",
    "\n",
    "label_real = []\n",
    "# label_all = []\n",
    "for label in image_list_label:\n",
    "    label_real.append(label.split('\\\\')[-2])\n",
    "#     label_all.append(label) \n",
    "    \n",
    "# unlabel_all = []\n",
    "# for unlabel in image_list_unlabel:\n",
    "#     unlabel_all.append(unlabel)\n",
    "\n",
    "np.save(\"./label_real.npy\", label_real) \n",
    "np.save(\"./label_fname.npy\", image_list_label)\n",
    "np.save('./unlabel_fname.npy',image_list_unlabel)\n"
   ]
  },
  {
   "cell_type": "code",
   "execution_count": 14,
   "metadata": {},
   "outputs": [],
   "source": []
  },
  {
   "cell_type": "markdown",
   "metadata": {},
   "source": [
    "# 여기부터 pre process - npy로딩부터 다시시작함"
   ]
  },
  {
   "cell_type": "code",
   "execution_count": 2,
   "metadata": {},
   "outputs": [],
   "source": [
    "from PIL import Image\n",
    "import numpy as np\n",
    "# import cv2\n",
    "import os"
   ]
  },
  {
   "cell_type": "code",
   "execution_count": 23,
   "metadata": {},
   "outputs": [],
   "source": [
    "os.chdir('C:\\\\Users\\\\2052662\\\\Desktop\\\\ys_aoi_data')"
   ]
  },
  {
   "cell_type": "code",
   "execution_count": 24,
   "metadata": {},
   "outputs": [],
   "source": [
    "data    = np.load('unlabel_img100x100.npy')\n",
    "labeled = np.load('label_img100x100.npy')\n",
    "labels  = np.load('label_real.npy')\n",
    "\n",
    "f_label = np.load('label_fname.npy')\n",
    "f_unlabel = np.load('unlabel_fname.npy')"
   ]
  },
  {
   "cell_type": "code",
   "execution_count": 25,
   "metadata": {},
   "outputs": [],
   "source": [
    "seed    = 0\n",
    "n_test  = 500\n",
    "resize  = 32"
   ]
  },
  {
   "cell_type": "code",
   "execution_count": 26,
   "metadata": {},
   "outputs": [],
   "source": [
    "np.random.seed(seed) "
   ]
  },
  {
   "cell_type": "code",
   "execution_count": 21,
   "metadata": {},
   "outputs": [],
   "source": [
    "u, idx = np.unique(labels, return_inverse=True)\n",
    "# idx = (np.asarray(new_labels) == 'dust') * 1\n",
    "\n",
    "test_idx  = np.random.choice(len(idx), n_test, replace=False)\n",
    "train_idx = np.setdiff1d(np.arange(len(idx)), test_idx)\n",
    "\n",
    "x_test  = labeled[test_idx, :, :, :]\n",
    "y_test  = idx[test_idx]\n",
    "x_train = np.concatenate([labeled[train_idx, :, :, :], data], axis=0)\n",
    "y_train = idx[train_idx]"
   ]
  },
  {
   "cell_type": "code",
   "execution_count": 29,
   "metadata": {},
   "outputs": [
    {
     "name": "stdout",
     "output_type": "stream",
     "text": [
      "0\n"
     ]
    }
   ],
   "source": [
    "x_train_75x75 = []\n",
    "k = 0\n",
    "for img in x_train:\n",
    "    if k % 10000 == 0:\n",
    "        print(k)\n",
    "    x_train_75x75.append(numpy.array(Image.fromarray(img).resize((resize,resize))))\n",
    "    k += 1"
   ]
  },
  {
   "cell_type": "code",
   "execution_count": 30,
   "metadata": {},
   "outputs": [
    {
     "name": "stdout",
     "output_type": "stream",
     "text": [
      "0\n"
     ]
    }
   ],
   "source": [
    "x_test_75x75 = []\n",
    "k = 0\n",
    "for img in x_test:\n",
    "    if k % 100000 == 0:\n",
    "        print(k)\n",
    "    x_test_75x75.append(numpy.array(Image.fromarray(img).resize((resize,resize))))\n",
    "    k += 1"
   ]
  },
  {
   "cell_type": "code",
   "execution_count": 31,
   "metadata": {},
   "outputs": [],
   "source": [
    "import h5py\n",
    "\n",
    "savep_file = h5py.File('{}x{}_seed{}.h5py'.format(resize, resize, seed), 'w')\n",
    "\n",
    "dset = savep_file.create_dataset('x_train', np.shape(x_train_75x75), dtype='int8')\n",
    "dset2 = savep_file.create_dataset('y_train', np.shape(y_train), dtype='i')\n",
    "dset3 = savep_file.create_dataset('x_test', np.shape(x_test_75x75), dtype='i')\n",
    "dset4 = savep_file.create_dataset('y_test', np.shape(y_test), dtype='f')\n",
    "\n",
    "\n",
    "dset[:, :, :, :]  = x_train_75x75\n",
    "dset2[:]          = y_train\n",
    "dset3[:, :, :, :] = x_test_75x75\n",
    "dset4[:]          = y_test\n",
    "\n",
    "savep_file.close()"
   ]
  },
  {
   "cell_type": "code",
   "execution_count": null,
   "metadata": {},
   "outputs": [],
   "source": []
  }
 ],
 "metadata": {
  "kernelspec": {
   "display_name": "Python 3",
   "language": "python",
   "name": "python3"
  },
  "language_info": {
   "codemirror_mode": {
    "name": "ipython",
    "version": 3
   },
   "file_extension": ".py",
   "mimetype": "text/x-python",
   "name": "python",
   "nbconvert_exporter": "python",
   "pygments_lexer": "ipython3",
   "version": "3.7.4"
  }
 },
 "nbformat": 4,
 "nbformat_minor": 2
}
