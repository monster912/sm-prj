{
 "cells": [
  {
   "cell_type": "code",
   "execution_count": 1,
   "metadata": {},
   "outputs": [],
   "source": [
    "from PIL import Image\n",
    "import numpy as np\n",
    "import os"
   ]
  },
  {
   "cell_type": "code",
   "execution_count": 2,
   "metadata": {},
   "outputs": [],
   "source": [
    "os.chdir('C:\\\\Users\\\\monst\\\\Desktop\\\\SMT-PRJ\\\\Hynix_SSL (1)\\\\data')"
   ]
  },
  {
   "cell_type": "code",
   "execution_count": 3,
   "metadata": {},
   "outputs": [],
   "source": [
    "npy_list = os.listdir('C:\\\\Users\\\\monst\\\\Desktop\\\\SMT-PRJ\\\\Hynix_SSL (1)\\\\data\\\\unlabel')\n",
    "fname_list = os.listdir('C:\\\\Users\\\\monst\\\\Desktop\\\\SMT-PRJ\\\\Hynix_SSL (1)\\\\data\\\\fname')"
   ]
  },
  {
   "cell_type": "code",
   "execution_count": 4,
   "metadata": {},
   "outputs": [],
   "source": [
    "data_pre = 'C:\\\\Users\\\\monst\\\\Desktop\\\\SMT-PRJ\\\\Hynix_SSL (1)\\\\data\\\\unlabel\\\\unlabel_img_200x200_'\n",
    "fname_pre = 'C:\\\\Users\\\\monst\\\\Desktop\\\\SMT-PRJ\\\\Hynix_SSL (1)\\\\data\\\\fname\\\\unlabel_fname_200x200_'\n",
    "file_count = len(npy_list)"
   ]
  },
  {
   "cell_type": "code",
   "execution_count": 5,
   "metadata": {},
   "outputs": [],
   "source": [
    "# unlabel가져와서 합치기\n",
    "data = [] \n",
    "f_data = []\n",
    "#for i in range(len(npy_list)): # 전체파일로할때\n",
    "for i in range(1): # 느리니까 일부만 가지고 할때\n",
    "    data_i = np.load(data_pre+str(i)+'.npy') #이미지 가져오기\n",
    "    f_data_i = np.load(fname_pre+str(i)+'.npy') #폴더명 가져오기\n",
    "    if i == 0:\n",
    "        data = data_i\n",
    "        f_data = f_data_i\n",
    "    else:\n",
    "        data = np.concatenate((data,data_i))\n",
    "        f_data = np.concatenate((f_data,f_data_i))"
   ]
  },
  {
   "cell_type": "code",
   "execution_count": 6,
   "metadata": {},
   "outputs": [],
   "source": [
    "data = data # 이미지 - unlabeled\n",
    "labeled = np.load('C:\\\\Users\\\\monst\\\\Desktop\\\\SMT-PRJ\\\\Hynix_SSL (1)\\\\data\\\\label\\\\label_img.npy') # 이미지-labeled\n",
    "labels  = np.load('C:\\\\Users\\\\monst\\\\Desktop\\\\SMT-PRJ\\\\Hynix_SSL (1)\\\\data\\\\label\\\\label_real.npy') # real Y값 - 이미지클래스 \n"
   ]
  },
  {
   "cell_type": "code",
   "execution_count": 7,
   "metadata": {},
   "outputs": [],
   "source": [
    "f_label = labels # labeled의 파일경로 원래는 파일경로를 가져와야 하지만, 안가져왔고 앞으로쓸일도없으니 그냥 씀\n",
    "f_unlabel = f_data # unlabeled의 파일경로"
   ]
  },
  {
   "cell_type": "code",
   "execution_count": 8,
   "metadata": {},
   "outputs": [],
   "source": [
    "seed    = 0\n",
    "n_test  = 500\n",
    "resize=200"
   ]
  },
  {
   "cell_type": "code",
   "execution_count": 9,
   "metadata": {},
   "outputs": [],
   "source": [
    "np.random.seed(seed) "
   ]
  },
  {
   "cell_type": "code",
   "execution_count": 10,
   "metadata": {},
   "outputs": [],
   "source": [
    "u, idx = np.unique(labels, return_inverse=True)\n",
    "# idx = (np.asarray(new_labels) == 'dust') * 1\n",
    "\n",
    "test_idx  = np.random.choice(len(idx), n_test, replace=False)\n",
    "train_idx = np.setdiff1d(np.arange(len(idx)), test_idx)\n",
    "\n",
    "x_test  = labeled[test_idx, :, :, :]\n",
    "y_test  = idx[test_idx]\n",
    "x_train = np.concatenate([labeled[train_idx, :, :, :], data], axis=0)\n",
    "y_train = idx[train_idx]\n",
    "f_train = np.concatenate([f_label[train_idx],f_unlabel])\n",
    "f_test = f_label[test_idx]"
   ]
  },
  {
   "cell_type": "code",
   "execution_count": 17,
   "metadata": {},
   "outputs": [],
   "source": [
    "import h5py\n",
    "\n",
    "savep_file = h5py.File('{}x{}_seed{}.h5py'.format(resize, resize, seed), 'w')\n",
    "\n",
    "dset = savep_file.create_dataset('x_train', np.shape(x_train), dtype='int8')\n",
    "dset2 = savep_file.create_dataset('y_train', np.shape(y_train), dtype='i')\n",
    "dset3 = savep_file.create_dataset('x_test', np.shape(x_test), dtype='i')\n",
    "dset4 = savep_file.create_dataset('y_test', np.shape(y_test), dtype='f')\n",
    "\n",
    "\n",
    "dtp = h5py.special_dtype(vlen=str)\n",
    "dset5 = savep_file.create_dataset('f_train', np.shape(f_train), dtype=dtp)\n",
    "dset6 = savep_file.create_dataset('f_test', np.shape(f_test),dtype=dtp)\n",
    "\n",
    "\n",
    "dset[:, :, :, :]  = x_train\n",
    "dset2[:]          = y_train\n",
    "dset3[:, :, :, :] = x_test\n",
    "dset4[:]          = y_test\n",
    "dset5[:]         = f_train\n",
    "dset6[:]          = f_test\n",
    "\n",
    "savep_file.close()"
   ]
  },
  {
   "cell_type": "code",
   "execution_count": 84,
   "metadata": {},
   "outputs": [],
   "source": []
  }
 ],
 "metadata": {
  "kernelspec": {
   "display_name": "Python [conda env:smt-prj] *",
   "language": "python",
   "name": "conda-env-smt-prj-py"
  },
  "language_info": {
   "codemirror_mode": {
    "name": "ipython",
    "version": 3
   },
   "file_extension": ".py",
   "mimetype": "text/x-python",
   "name": "python",
   "nbconvert_exporter": "python",
   "pygments_lexer": "ipython3",
   "version": "3.7.4"
  }
 },
 "nbformat": 4,
 "nbformat_minor": 2
}
